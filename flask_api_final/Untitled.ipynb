{
 "cells": [
  {
   "cell_type": "code",
   "execution_count": 1,
   "metadata": {
    "collapsed": true
   },
   "outputs": [],
   "source": [
    "from hashlib import *\n",
    "from pyblake2 import blake2b"
   ]
  },
  {
   "cell_type": "code",
   "execution_count": 2,
   "metadata": {
    "collapsed": true
   },
   "outputs": [],
   "source": [
    "import string\n",
    "from random import choice,randint,seed\n",
    "import numpy as np\n",
    "from pyblake2 import blake2b\n",
    "\n",
    "def hash_family(semilla=12345,k=100):\n",
    "\t\"\"\"\n",
    "\tDado una semilla y un número k, \n",
    "\tgenera los salts (semilla en string)\n",
    "\tpara generar k funciónes de hash blake2b\n",
    "\t\"\"\"\n",
    "\tseed(semilla)\n",
    "\thash_salts = []\n",
    "\tfor i in range(int(k)):\n",
    "\t\tmin_char = 8\n",
    "\t\tmax_char = 12\n",
    "\t\tallchar = string.ascii_letters + string.digits\n",
    "\t\tpassword = \"\".join(choice(allchar) for x in range(randint(min_char, max_char)))\n",
    "\t\tsalt = password.encode()\n",
    "\t\thash_salts.append(salt)\n",
    "\n",
    "\treturn hash_salts\n",
    "\n",
    "\n",
    "def hash_generator(elemento,salts,modulo_primo=526717,hyperloglog=False):\n",
    "    \"\"\"\n",
    "    Recibe un elemento, y genera los hashes blake2b del elemento, se mapean a\n",
    "    enteros y se les aplica módulo de un primo dado.\n",
    "    Si hyperloglog es True, regresa un hash binario, uno solo.\n",
    "    \"\"\"\n",
    "    elemento = elemento.encode() \n",
    "    \n",
    "    if hyperloglog == True:\n",
    "    \tmodulo_primo = 10000139\n",
    "    \thashes = format(int(blake2b(elemento,salt=salts[0]).hexdigest()[:10],16) % modulo_primo,'023b') \n",
    "    else:\n",
    "    \thashes = [int(blake2b(elemento,salt=salt).hexdigest()[:10],16) % modulo_primo\\\n",
    "\t    for salt in salts]\n",
    "    \n",
    "    return hashes\n",
    "\n",
    "\n",
    "class bloom_filter:\n",
    "\t\"\"\"\n",
    "\tUn bloom filter.\n",
    "\t\n",
    "\tRecibe los salts generados para loss hashes con blake2b y un primo, que es el largo del]\n",
    "\tvector de bits.\n",
    "\t\"\"\"     \n",
    "\tdef __init__(self,salts,big_prime):\n",
    "\t    self.salts = salts\n",
    "\t    self.big_prime = big_prime\n",
    "\t    self.bits_vector = np.zeros(self.big_prime)\n",
    "\n",
    "\tdef check_element(self,element):\n",
    "\t\t\"\"\"\n",
    "\t\tCheca, dado un elemento, \n",
    "\t\tsi este ya existe, si no, lo inserta.\n",
    "\t\t\"\"\"\n",
    "\t\t#generate hashes\n",
    "\t\thashes = hash_generator(element,self.salts,self.big_prime)\n",
    "\t\tif self.bits_vector[hashes].sum() == len(hashes):\n",
    "\t\t    print('elemento {} ya esta en la lista'.format(element))\n",
    "\t\t    return 0\n",
    "\t\telse:\n",
    "\t\t    print('elemento {} no esta en la lista'.format(element))\n",
    "\t\t    #inserción en el filtro de bloom\n",
    "\t\t    self.bits_vector[hashes] = 1\n",
    "\t\t    return 1"
   ]
  },
  {
   "cell_type": "code",
   "execution_count": 3,
   "metadata": {
    "collapsed": true
   },
   "outputs": [],
   "source": [
    "salts = hash_family(k=100)\n",
    "big_prime = 9003749\n",
    "#genera vector\t de bits \n",
    "filtro_bloom = bloom_filter(salts,big_prime)"
   ]
  },
  {
   "cell_type": "code",
   "execution_count": null,
   "metadata": {
    "collapsed": true
   },
   "outputs": [],
   "source": []
  },
  {
   "cell_type": "code",
   "execution_count": null,
   "metadata": {
    "collapsed": true
   },
   "outputs": [],
   "source": []
  },
  {
   "cell_type": "code",
   "execution_count": null,
   "metadata": {
    "collapsed": true
   },
   "outputs": [],
   "source": []
  },
  {
   "cell_type": "code",
   "execution_count": null,
   "metadata": {
    "collapsed": true
   },
   "outputs": [],
   "source": []
  },
  {
   "cell_type": "code",
   "execution_count": null,
   "metadata": {
    "collapsed": true
   },
   "outputs": [],
   "source": []
  },
  {
   "cell_type": "code",
   "execution_count": null,
   "metadata": {
    "collapsed": true
   },
   "outputs": [],
   "source": []
  },
  {
   "cell_type": "code",
   "execution_count": null,
   "metadata": {
    "collapsed": true
   },
   "outputs": [],
   "source": []
  },
  {
   "cell_type": "code",
   "execution_count": null,
   "metadata": {
    "collapsed": true
   },
   "outputs": [],
   "source": []
  },
  {
   "cell_type": "code",
   "execution_count": null,
   "metadata": {
    "collapsed": true
   },
   "outputs": [],
   "source": []
  },
  {
   "cell_type": "code",
   "execution_count": null,
   "metadata": {
    "collapsed": true
   },
   "outputs": [],
   "source": []
  },
  {
   "cell_type": "code",
   "execution_count": null,
   "metadata": {
    "collapsed": true
   },
   "outputs": [],
   "source": []
  },
  {
   "cell_type": "code",
   "execution_count": null,
   "metadata": {
    "collapsed": true
   },
   "outputs": [],
   "source": []
  },
  {
   "cell_type": "code",
   "execution_count": null,
   "metadata": {
    "collapsed": true
   },
   "outputs": [],
   "source": []
  },
  {
   "cell_type": "code",
   "execution_count": null,
   "metadata": {
    "collapsed": true
   },
   "outputs": [],
   "source": []
  },
  {
   "cell_type": "code",
   "execution_count": null,
   "metadata": {
    "collapsed": true
   },
   "outputs": [],
   "source": []
  },
  {
   "cell_type": "code",
   "execution_count": null,
   "metadata": {
    "collapsed": true
   },
   "outputs": [],
   "source": []
  },
  {
   "cell_type": "code",
   "execution_count": 2,
   "metadata": {
    "collapsed": true
   },
   "outputs": [],
   "source": []
  },
  {
   "cell_type": "code",
   "execution_count": null,
   "metadata": {
    "collapsed": true
   },
   "outputs": [],
   "source": [
    "\n"
   ]
  },
  {
   "cell_type": "code",
   "execution_count": null,
   "metadata": {
    "collapsed": true
   },
   "outputs": [],
   "source": []
  },
  {
   "cell_type": "code",
   "execution_count": null,
   "metadata": {
    "collapsed": true
   },
   "outputs": [],
   "source": [
    "num_bins = 100\n",
    "n, bins, patches = plt.hist(x, num_bins, facecolor='blue', alpha=0.5)\n",
    "plt.show()"
   ]
  },
  {
   "cell_type": "code",
   "execution_count": null,
   "metadata": {
    "collapsed": true
   },
   "outputs": [],
   "source": []
  },
  {
   "cell_type": "code",
   "execution_count": 19,
   "metadata": {
    "collapsed": true
   },
   "outputs": [],
   "source": [
    "import requests\n",
    "import pandas as pd\n",
    "flujo = pd.read_csv('../../flujo1.csv',header=None)\n",
    "flujo.columns = ['nodo','mac','pot','fecha']\n",
    "flujo.loc[:,'fecha'] = flujo['fecha'].str[:10]\n",
    "flujo = flujo[['nodo','mac','fecha']].values.tolist()\n",
    "elementos = ['-'.join(elemento) for elemento in flujo]\n",
    "records = elementos[:100]\n",
    "records2 = elementos[101:200]\n",
    "records3 = elementos[201:300]\n",
    "records4 = elementos[301:400]"
   ]
  },
  {
   "cell_type": "code",
   "execution_count": 21,
   "metadata": {},
   "outputs": [
    {
     "name": "stdout",
     "output_type": "stream",
     "text": [
      "{'macs_existentes_filtro': 33, 'nuevas_visitas_filtro': 66}\n",
      "{'nuevas_visitas_base': 33, 'visitas_existentes_base': 66}\n",
      "{'macs_existentes_filtro': 0, 'nuevas_visitas_filtro': 99}\n",
      "{'nuevas_visitas_base': 0, 'visitas_existentes_base': 99}\n",
      "{'macs_existentes_filtro': 19, 'nuevas_visitas_filtro': 80}\n",
      "{'nuevas_visitas_base': 19, 'visitas_existentes_base': 80}\n",
      "{'macs_existentes_filtro': 14, 'nuevas_visitas_filtro': 85}\n",
      "{'nuevas_visitas_base': 14, 'visitas_existentes_base': 85}\n"
     ]
    }
   ],
   "source": [
    "for records in [records,records2,records3,records4]:\n",
    "    r = requests.post('http://localhost:5000/insert_elements_bloom/', json= {'records':records})\n",
    "    p = requests.post('http://localhost:5000/insert_elements_db/', json= {'records':records})\n",
    "    print(r.json())\n",
    "    print(p.json())"
   ]
  },
  {
   "cell_type": "code",
   "execution_count": 2,
   "metadata": {},
   "outputs": [
    {
     "name": "stdout",
     "output_type": "stream",
     "text": [
      "wiri\n"
     ]
    },
    {
     "ename": "InternalError",
     "evalue": "current transaction is aborted, commands ignored until end of transaction block\n",
     "output_type": "error",
     "traceback": [
      "\u001b[0;31m---------------------------------------------------------------------------\u001b[0m",
      "\u001b[0;31mInternalError\u001b[0m                             Traceback (most recent call last)",
      "\u001b[0;32m<ipython-input-2-40020f041896>\u001b[0m in \u001b[0;36m<module>\u001b[0;34m()\u001b[0m\n\u001b[1;32m      5\u001b[0m \u001b[0;32mfor\u001b[0m \u001b[0mrecord\u001b[0m \u001b[0;32min\u001b[0m \u001b[0mrecords\u001b[0m\u001b[0;34m:\u001b[0m\u001b[0;34m\u001b[0m\u001b[0m\n\u001b[1;32m      6\u001b[0m     \u001b[0;32mtry\u001b[0m\u001b[0;34m:\u001b[0m\u001b[0;34m\u001b[0m\u001b[0m\n\u001b[0;32m----> 7\u001b[0;31m         \u001b[0mcur\u001b[0m\u001b[0;34m.\u001b[0m\u001b[0mexecute\u001b[0m\u001b[0;34m(\u001b[0m\u001b[0;34m\"insert into checkin (checkin) values (%s)\"\u001b[0m\u001b[0;34m,\u001b[0m\u001b[0;34m(\u001b[0m\u001b[0mrecord\u001b[0m\u001b[0;34m,\u001b[0m\u001b[0;34m)\u001b[0m\u001b[0;34m)\u001b[0m\u001b[0;34m\u001b[0m\u001b[0m\n\u001b[0m\u001b[1;32m      8\u001b[0m         \u001b[0mpos_connection\u001b[0m\u001b[0;34m.\u001b[0m\u001b[0mcommit\u001b[0m\u001b[0;34m(\u001b[0m\u001b[0;34m)\u001b[0m\u001b[0;34m\u001b[0m\u001b[0m\n\u001b[1;32m      9\u001b[0m     \u001b[0;32mexcept\u001b[0m \u001b[0mpg\u001b[0m\u001b[0;34m.\u001b[0m\u001b[0mIntegrityError\u001b[0m\u001b[0;34m:\u001b[0m\u001b[0;34m\u001b[0m\u001b[0m\n",
      "\u001b[0;31mInternalError\u001b[0m: current transaction is aborted, commands ignored until end of transaction block\n"
     ]
    }
   ],
   "source": []
  },
  {
   "cell_type": "code",
   "execution_count": 7,
   "metadata": {},
   "outputs": [
    {
     "name": "stdout",
     "output_type": "stream",
     "text": [
      "{'macs_existentes_filtro': 73, 'visitas_existentes_base': 73, 'nuevas_macs_filtro': 27}\n",
      "{'macs_existentes_filtro': 84, 'visitas_existentes_base': 84, 'nuevas_macs_filtro': 15}\n",
      "{'macs_existentes_filtro': 80, 'visitas_existentes_base': 80, 'nuevas_macs_filtro': 19}\n",
      "{'macs_existentes_filtro': 86, 'visitas_existentes_base': 86, 'nuevas_macs_filtro': 13}\n"
     ]
    }
   ],
   "source": []
  },
  {
   "cell_type": "code",
   "execution_count": null,
   "metadata": {
    "collapsed": true
   },
   "outputs": [],
   "source": [
    "flujo[1]"
   ]
  },
  {
   "cell_type": "code",
   "execution_count": null,
   "metadata": {
    "collapsed": true
   },
   "outputs": [],
   "source": []
  },
  {
   "cell_type": "code",
   "execution_count": null,
   "metadata": {
    "collapsed": true
   },
   "outputs": [],
   "source": []
  },
  {
   "cell_type": "code",
   "execution_count": null,
   "metadata": {
    "collapsed": true
   },
   "outputs": [],
   "source": []
  },
  {
   "cell_type": "code",
   "execution_count": null,
   "metadata": {
    "collapsed": true
   },
   "outputs": [],
   "source": [
    "pos_connection.commit()"
   ]
  },
  {
   "cell_type": "code",
   "execution_count": 9,
   "metadata": {},
   "outputs": [
    {
     "data": {
      "text/plain": [
       "{'macs_existentes_filtro': 158,\n",
       " 'nuevas_macs_filtro': 42,\n",
       " 'visitas_existentes_base': 158}"
      ]
     },
     "execution_count": 9,
     "metadata": {},
     "output_type": "execute_result"
    }
   ],
   "source": []
  },
  {
   "cell_type": "code",
   "execution_count": null,
   "metadata": {
    "collapsed": true
   },
   "outputs": [],
   "source": []
  },
  {
   "cell_type": "code",
   "execution_count": null,
   "metadata": {
    "collapsed": true
   },
   "outputs": [],
   "source": []
  },
  {
   "cell_type": "markdown",
   "metadata": {},
   "source": [
    "Simulación de flujos \n"
   ]
  },
  {
   "cell_type": "code",
   "execution_count": null,
   "metadata": {
    "collapsed": true
   },
   "outputs": [],
   "source": [
    "\n",
    "\n",
    "### Tenemos archivo. Insertaremos batches de 10000 lineas. \n",
    "\n",
    "##lee archivo. \n",
    "\n",
    "#obten los registros e insertalos en la base de datos.\n",
    "\n",
    "    #deacuerdo a blo\n",
    "\n",
    "\n",
    "\n",
    "\n"
   ]
  }
 ],
 "metadata": {
  "kernelspec": {
   "display_name": "py3",
   "language": "python",
   "name": "py3"
  },
  "language_info": {
   "codemirror_mode": {
    "name": "ipython",
    "version": 3
   },
   "file_extension": ".py",
   "mimetype": "text/x-python",
   "name": "python",
   "nbconvert_exporter": "python",
   "pygments_lexer": "ipython3",
   "version": "3.5.2"
  }
 },
 "nbformat": 4,
 "nbformat_minor": 2
}
