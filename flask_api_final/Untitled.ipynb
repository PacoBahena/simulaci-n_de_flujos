{
 "cells": [
  {
   "cell_type": "code",
   "execution_count": null,
   "metadata": {
    "collapsed": true
   },
   "outputs": [],
   "source": [
    "from hashlib import *"
   ]
  },
  {
   "cell_type": "code",
   "execution_count": null,
   "metadata": {
    "collapsed": true
   },
   "outputs": [],
   "source": [
    "??sha256('paco'.encode('utf8')).hexdigest()"
   ]
  },
  {
   "cell_type": "code",
   "execution_count": null,
   "metadata": {},
   "outputs": [],
   "source": [
    "md5('paco'.encode('utf8')).hexdigest()"
   ]
  },
  {
   "cell_type": "code",
   "execution_count": null,
   "metadata": {
    "collapsed": true
   },
   "outputs": [],
   "source": [
    "from pyblake2 import blake2b"
   ]
  },
  {
   "cell_type": "code",
   "execution_count": null,
   "metadata": {},
   "outputs": [],
   "source": [
    "blake2b('paco'.encode('utf8'),salt=b'Hola').hexdigest()"
   ]
  },
  {
   "cell_type": "code",
   "execution_count": null,
   "metadata": {
    "collapsed": true
   },
   "outputs": [],
   "source": [
    "import string\n",
    "from random import choice,randint\n",
    "\n",
    "def hash_generator(semilla=12345,k=100):\n",
    "    random.seed(semilla)\n",
    "    hash_salts = []\n",
    "    \n",
    "    for i in range(k):\n",
    "        min_char = 8\n",
    "        max_char = 12\n",
    "        allchar = string.ascii_letters + string.digits\n",
    "        password = \"\".join(choice(allchar) for x in range(randint(min_char, max_char)))\n",
    "        salt = password.encode()\n",
    "        hash_salts.append(salt)\n",
    "    \n",
    "    return hash_salts"
   ]
  },
  {
   "cell_type": "code",
   "execution_count": null,
   "metadata": {
    "collapsed": true
   },
   "outputs": [],
   "source": []
  },
  {
   "cell_type": "code",
   "execution_count": null,
   "metadata": {},
   "outputs": [],
   "source": [
    "\n",
    "import random\n",
    "big_prime = 526717\n",
    "random.seed(12345)\n",
    "sales = hash_generator(1)\n",
    "words = []\n",
    "for i in range(100000):\n",
    "    palabra = ''.join(random.choice(string.digits) for _ in range(12))\n",
    "    words.append(palabra)\n",
    "unique_words = set(words)\n",
    "print(\"palabras unicas {}\".format(len(unique_words)))\n",
    "hashes = []\n",
    "for w in words:\n",
    "p = [str(int(blake2b(w.encode(),salt=salt).hexdigest()[:10],16) % big_prime ) for salt in sales]\n",
    "p = ''.join(p)\n",
    "hashes.append(p)\n",
    "\n",
    "bloom_filter = np.zeros(big_prime)\n",
    "print(\"numhashes {} y unicos {}\".format(len(hashes),len(set(hashes))))\n",
    "x = [int(h) for h in hashes]\n",
    "print(\"min num entero mapeado {} y max {}\".format(min(x),max(x)))"
   ]
  },
  {
   "cell_type": "code",
   "execution_count": null,
   "metadata": {
    "collapsed": true
   },
   "outputs": [],
   "source": [
    "# funcion para activar el filtro\n",
    "def add_mac(hashes, bloom):\n",
    "    bloom_filter[hashes] = 1"
   ]
  },
  {
   "cell_type": "code",
   "execution_count": null,
   "metadata": {
    "collapsed": true
   },
   "outputs": [],
   "source": [
    "\n",
    "def genera_hashes(elemento,salts,modulo_primo=526717):\n",
    "    \"\"\"\n",
    "    Recibe un elemento, y genera los hashes blake2b del elemento, se mapean a\n",
    "    enteros y se les aplica módulo de un primo dado.\n",
    "    \"\"\"\n",
    "    elemento = elemento.encode() \n",
    "    hashes = [int(blake2b(elemento,salt=salt).hexdigest()[:10],16) % modulo_primo\\\n",
    "    for salt in salts] \n",
    "    \n",
    "    return hashes"
   ]
  },
  {
   "cell_type": "code",
   "execution_count": null,
   "metadata": {
    "collapsed": true
   },
   "outputs": [],
   "source": [
    "sales = hash_generator()\n",
    "hashes = genera_hashes('paco',sales)"
   ]
  },
  {
   "cell_type": "code",
   "execution_count": null,
   "metadata": {
    "collapsed": true
   },
   "outputs": [],
   "source": [
    "bloom_filter = np.zeros(526717)"
   ]
  },
  {
   "cell_type": "code",
   "execution_count": null,
   "metadata": {
    "collapsed": true
   },
   "outputs": [],
   "source": [
    "bloom_filter[hashes] = 1"
   ]
  },
  {
   "cell_type": "code",
   "execution_count": null,
   "metadata": {},
   "outputs": [],
   "source": [
    "bloom_filter[bloom_filter==1]"
   ]
  },
  {
   "cell_type": "code",
   "execution_count": null,
   "metadata": {
    "collapsed": true
   },
   "outputs": [],
   "source": [
    "def hash_family(semilla=12345,k=100):\n",
    "    \"\"\"\n",
    "\tDado una semilla y un número k, \n",
    "\tgenera los salts (semilla en string)\n",
    "\tpara generar k funciónes de hash blake2b\n",
    "\t\"\"\"\n",
    "    random.seed(semilla)\n",
    "    hash_salts = []\n",
    "    \n",
    "    for i in range(k):\n",
    "        min_char = 8\n",
    "        max_char = 12\n",
    "        allchar = string.ascii_letters + string.digits\n",
    "        password = \"\".join(choice(allchar) for x in range(randint(min_char, max_char)))\n",
    "        salt = password.encode()\n",
    "        hash_salts.append(salt)\n",
    "    \n",
    "    return hash_salts\n",
    "\n",
    "\n",
    "def hash_generator(elemento,salts,modulo_primo=526717):\n",
    "    \"\"\"\n",
    "    Recibe un elemento, y genera los hashes blake2b del elemento, se mapean a\n",
    "    enteros y se les aplica módulo de un primo dado.\n",
    "    \"\"\"\n",
    "    elemento = elemento.encode() \n",
    "    hashes = [int(blake2b(elemento,salt=salt).hexdigest()[:10],16) % modulo_primo\\\n",
    "    for salt in salts] \n",
    "    \n",
    "    return hashes"
   ]
  },
  {
   "cell_type": "code",
   "execution_count": null,
   "metadata": {
    "collapsed": true
   },
   "outputs": [],
   "source": [
    "class bloom_filter:\n",
    "       \n",
    "    def __init__(self,salts,big_prime):\n",
    "        self.salts = salts\n",
    "        self.big_prime = big_prime\n",
    "        self.bits_vector = np.zeros(self.big_prime)\n",
    "    \n",
    "    def check_element(self,element):\n",
    "        #generate hashes\n",
    "        hashes = hash_generator(element,self.salts,self.big_prime)\n",
    "        #check if exists\n",
    "        if self.bits_vector[hashes].sum() == len(hashes):\n",
    "            print('elemento {} ya esta en la lista'.format(element))\n",
    "            return 0\n",
    "        else:\n",
    "            print('elemento {} no esta en la lista'.format(element))\n",
    "            #inserción en el filtro de bloom\n",
    "            self.bits_vector[hashes] = 1\n",
    "            return 1\n",
    "        \n",
    "    "
   ]
  },
  {
   "cell_type": "code",
   "execution_count": null,
   "metadata": {
    "collapsed": true
   },
   "outputs": [],
   "source": [
    "salts = hash_family()\n",
    "filtro_bloom = bloom_filter(salts=salts,big_prime=526717)"
   ]
  },
  {
   "cell_type": "code",
   "execution_count": null,
   "metadata": {},
   "outputs": [],
   "source": [
    "filtro_bloom.check_element('paco')"
   ]
  },
  {
   "cell_type": "code",
   "execution_count": null,
   "metadata": {
    "collapsed": true
   },
   "outputs": [],
   "source": []
  },
  {
   "cell_type": "code",
   "execution_count": null,
   "metadata": {
    "collapsed": true
   },
   "outputs": [],
   "source": [
    "import numpy as np\n",
    "import matplotlib.mlab as mlab\n",
    "import matplotlib.pyplot as plt"
   ]
  },
  {
   "cell_type": "code",
   "execution_count": null,
   "metadata": {
    "collapsed": true
   },
   "outputs": [],
   "source": [
    "\n"
   ]
  },
  {
   "cell_type": "code",
   "execution_count": null,
   "metadata": {},
   "outputs": [],
   "source": []
  },
  {
   "cell_type": "code",
   "execution_count": null,
   "metadata": {},
   "outputs": [],
   "source": [
    "num_bins = 100\n",
    "n, bins, patches = plt.hist(x, num_bins, facecolor='blue', alpha=0.5)\n",
    "plt.show()"
   ]
  },
  {
   "cell_type": "code",
   "execution_count": null,
   "metadata": {
    "collapsed": true
   },
   "outputs": [],
   "source": []
  },
  {
   "cell_type": "code",
   "execution_count": 10,
   "metadata": {
    "collapsed": true
   },
   "outputs": [],
   "source": [
    "import requests\n",
    "import pandas as pd\n",
    "flujo = pd.read_csv('../../flujo1.csv',header=None)\n",
    "flujo.columns = ['nodo','mac','pot','fecha']\n",
    "flujo.loc[:,'fecha'] = flujo['fecha'].str[:10]\n",
    "flujo = flujo[['nodo','mac','fecha']].values.tolist()\n",
    "elementos = ['-'.join(elemento) for elemento in flujo]\n",
    "records = elementos[:100]\n",
    "records2 = elementos[101:200]\n",
    "records3 = elementos[201:300]\n",
    "records4 = elementos[301:400]"
   ]
  },
  {
   "cell_type": "code",
   "execution_count": 2,
   "metadata": {},
   "outputs": [
    {
     "name": "stdout",
     "output_type": "stream",
     "text": [
      "wiri\n"
     ]
    },
    {
     "ename": "InternalError",
     "evalue": "current transaction is aborted, commands ignored until end of transaction block\n",
     "output_type": "error",
     "traceback": [
      "\u001b[0;31m---------------------------------------------------------------------------\u001b[0m",
      "\u001b[0;31mInternalError\u001b[0m                             Traceback (most recent call last)",
      "\u001b[0;32m<ipython-input-2-40020f041896>\u001b[0m in \u001b[0;36m<module>\u001b[0;34m()\u001b[0m\n\u001b[1;32m      5\u001b[0m \u001b[0;32mfor\u001b[0m \u001b[0mrecord\u001b[0m \u001b[0;32min\u001b[0m \u001b[0mrecords\u001b[0m\u001b[0;34m:\u001b[0m\u001b[0;34m\u001b[0m\u001b[0m\n\u001b[1;32m      6\u001b[0m     \u001b[0;32mtry\u001b[0m\u001b[0;34m:\u001b[0m\u001b[0;34m\u001b[0m\u001b[0m\n\u001b[0;32m----> 7\u001b[0;31m         \u001b[0mcur\u001b[0m\u001b[0;34m.\u001b[0m\u001b[0mexecute\u001b[0m\u001b[0;34m(\u001b[0m\u001b[0;34m\"insert into checkin (checkin) values (%s)\"\u001b[0m\u001b[0;34m,\u001b[0m\u001b[0;34m(\u001b[0m\u001b[0mrecord\u001b[0m\u001b[0;34m,\u001b[0m\u001b[0;34m)\u001b[0m\u001b[0;34m)\u001b[0m\u001b[0;34m\u001b[0m\u001b[0m\n\u001b[0m\u001b[1;32m      8\u001b[0m         \u001b[0mpos_connection\u001b[0m\u001b[0;34m.\u001b[0m\u001b[0mcommit\u001b[0m\u001b[0;34m(\u001b[0m\u001b[0;34m)\u001b[0m\u001b[0;34m\u001b[0m\u001b[0m\n\u001b[1;32m      9\u001b[0m     \u001b[0;32mexcept\u001b[0m \u001b[0mpg\u001b[0m\u001b[0;34m.\u001b[0m\u001b[0mIntegrityError\u001b[0m\u001b[0;34m:\u001b[0m\u001b[0;34m\u001b[0m\u001b[0m\n",
      "\u001b[0;31mInternalError\u001b[0m: current transaction is aborted, commands ignored until end of transaction block\n"
     ]
    }
   ],
   "source": [
    "# import psycopg2 as pg\n",
    "\n",
    "# pos_connection = pg.connect(dbname='flujo', user='usuario_flujo', host=\"pos1.cjp3gx7nxjsk.us-east-1.rds.amazonaws.com\", password='flujos',connect_timeout=8)\n",
    "# cur = pos_connection.cursor()\n",
    "# for record in records:\n",
    "#     try:\n",
    "#         cur.execute(\"insert into checkin (checkin) values (%s)\",(record,))\n",
    "#         pos_connection.commit()\n",
    "#     except pg.IntegrityError:\n",
    "#         print('wiri')"
   ]
  },
  {
   "cell_type": "code",
   "execution_count": 12,
   "metadata": {},
   "outputs": [
    {
     "name": "stdout",
     "output_type": "stream",
     "text": [
      "{'visitas_existentes_base': 100, 'nuevas_macs_filtro': 0, 'macs_existentes_filtro': 100}\n",
      "{'visitas_existentes_base': 99, 'nuevas_macs_filtro': 0, 'macs_existentes_filtro': 99}\n",
      "{'visitas_existentes_base': 80, 'nuevas_macs_filtro': 19, 'macs_existentes_filtro': 80}\n",
      "{'visitas_existentes_base': 86, 'nuevas_macs_filtro': 13, 'macs_existentes_filtro': 86}\n"
     ]
    }
   ],
   "source": [
    "for records in [records,records2,records3,records4]:\n",
    "    r = requests.post('http://localhost:5000/insert_elements/', json= {'records':records})\n",
    "    print(r.json())"
   ]
  },
  {
   "cell_type": "code",
   "execution_count": null,
   "metadata": {},
   "outputs": [],
   "source": [
    "flujo[1]"
   ]
  },
  {
   "cell_type": "code",
   "execution_count": null,
   "metadata": {},
   "outputs": [],
   "source": []
  },
  {
   "cell_type": "code",
   "execution_count": null,
   "metadata": {},
   "outputs": [],
   "source": []
  },
  {
   "cell_type": "code",
   "execution_count": null,
   "metadata": {},
   "outputs": [],
   "source": []
  },
  {
   "cell_type": "code",
   "execution_count": null,
   "metadata": {
    "collapsed": true
   },
   "outputs": [],
   "source": [
    "pos_connection.commit()"
   ]
  },
  {
   "cell_type": "code",
   "execution_count": 9,
   "metadata": {},
   "outputs": [
    {
     "data": {
      "text/plain": [
       "{'macs_existentes_filtro': 158,\n",
       " 'nuevas_macs_filtro': 42,\n",
       " 'visitas_existentes_base': 158}"
      ]
     },
     "execution_count": 9,
     "metadata": {},
     "output_type": "execute_result"
    }
   ],
   "source": []
  },
  {
   "cell_type": "code",
   "execution_count": null,
   "metadata": {
    "collapsed": true
   },
   "outputs": [],
   "source": []
  },
  {
   "cell_type": "code",
   "execution_count": null,
   "metadata": {
    "collapsed": true
   },
   "outputs": [],
   "source": []
  },
  {
   "cell_type": "markdown",
   "metadata": {},
   "source": [
    "Simulación de flujos \n"
   ]
  },
  {
   "cell_type": "code",
   "execution_count": null,
   "metadata": {
    "collapsed": true
   },
   "outputs": [],
   "source": [
    "\n",
    "\n",
    "### Tenemos archivo. Insertaremos batches de 10000 lineas. \n",
    "\n",
    "##lee archivo. \n",
    "\n",
    "#obten los registros e insertalos en la base de datos.\n",
    "\n",
    "    #deacuerdo a blo\n",
    "\n",
    "\n",
    "\n",
    "\n"
   ]
  }
 ],
 "metadata": {
  "kernelspec": {
   "display_name": "py3",
   "language": "python",
   "name": "py3"
  },
  "language_info": {
   "codemirror_mode": {
    "name": "ipython",
    "version": 3
   },
   "file_extension": ".py",
   "mimetype": "text/x-python",
   "name": "python",
   "nbconvert_exporter": "python",
   "pygments_lexer": "ipython3",
   "version": "3.5.2"
  }
 },
 "nbformat": 4,
 "nbformat_minor": 2
}
