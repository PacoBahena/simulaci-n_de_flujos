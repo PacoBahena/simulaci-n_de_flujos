{
 "cells": [
  {
   "cell_type": "code",
   "execution_count": 3,
   "metadata": {
    "collapsed": true
   },
   "outputs": [],
   "source": [
    "from hashlib import *"
   ]
  },
  {
   "cell_type": "code",
   "execution_count": 8,
   "metadata": {
    "collapsed": true
   },
   "outputs": [],
   "source": [
    "??sha256('paco'.encode('utf8')).hexdigest()"
   ]
  },
  {
   "cell_type": "code",
   "execution_count": 12,
   "metadata": {},
   "outputs": [
    {
     "data": {
      "text/plain": [
       "'311020666a5776c57d265ace682dc46d'"
      ]
     },
     "execution_count": 12,
     "metadata": {},
     "output_type": "execute_result"
    }
   ],
   "source": [
    "md5('paco'.encode('utf8')).hexdigest()"
   ]
  },
  {
   "cell_type": "code",
   "execution_count": 4,
   "metadata": {
    "collapsed": true
   },
   "outputs": [],
   "source": [
    "from pyblake2 import blake2b"
   ]
  },
  {
   "cell_type": "code",
   "execution_count": 32,
   "metadata": {},
   "outputs": [
    {
     "data": {
      "text/plain": [
       "'5c0a0c51f3fca744defd17fb6b2a25a78f6aea0a982a3cbc17ac3e4e9aed97c46ca08f34df0691ca71b74bc59878e95bc9a3d411010bf4d438aeedae7ef7f580'"
      ]
     },
     "execution_count": 32,
     "metadata": {},
     "output_type": "execute_result"
    }
   ],
   "source": [
    "blake2b('paco'.encode('utf8'),salt=b'Hola').hexdigest()"
   ]
  },
  {
   "cell_type": "code",
   "execution_count": 19,
   "metadata": {},
   "outputs": [],
   "source": [
    "import string\n",
    "from random import choice,randint\n",
    "\n",
    "def hash_generator(semilla=12345,k=100):\n",
    "    random.seed(semilla)\n",
    "    hash_salts = []\n",
    "    \n",
    "    for i in range(k):\n",
    "        min_char = 8\n",
    "        max_char = 12\n",
    "        allchar = string.ascii_letters + string.digits\n",
    "        password = \"\".join(choice(allchar) for x in range(randint(min_char, max_char)))\n",
    "        salt = password.encode()\n",
    "        hash_salts.append(salt)\n",
    "    \n",
    "    return hash_salts"
   ]
  },
  {
   "cell_type": "code",
   "execution_count": 49,
   "metadata": {},
   "outputs": [],
   "source": []
  },
  {
   "cell_type": "code",
   "execution_count": 14,
   "metadata": {},
   "outputs": [
    {
     "name": "stdout",
     "output_type": "stream",
     "text": [
      "palabras unicas 100000\n",
      "numhashes 100000 y unicos 100000\n",
      "min num entero mapeado 9444545 y max 1099506432342\n"
     ]
    }
   ],
   "source": [
    "\n",
    "import random\n",
    "big_prime = 526717\n",
    "random.seed(12345)\n",
    "sales = hash_generator(1)\n",
    "words = []\n",
    "for i in range(100000):\n",
    "    palabra = ''.join(random.choice(string.digits) for _ in range(12))\n",
    "    words.append(palabra)\n",
    "unique_words = set(words)\n",
    "print(\"palabras unicas {}\".format(len(unique_words)))\n",
    "hashes = []\n",
    "for w in words:\n",
    "p = [str(int(blake2b(w.encode(),salt=salt).hexdigest()[:10],16) % big_prime ) for salt in sales]\n",
    "p = ''.join(p)\n",
    "hashes.append(p)\n",
    "\n",
    "bloom_filter = np.zeros(big_prime)\n",
    "print(\"numhashes {} y unicos {}\".format(len(hashes),len(set(hashes))))\n",
    "x = [int(h) for h in hashes]\n",
    "print(\"min num entero mapeado {} y max {}\".format(min(x),max(x)))"
   ]
  },
  {
   "cell_type": "code",
   "execution_count": null,
   "metadata": {
    "collapsed": true
   },
   "outputs": [],
   "source": [
    "# funcion para activar el filtro\n",
    "def add_mac(hashes, bloom):\n",
    "    bloom_filter[hashes] = 1"
   ]
  },
  {
   "cell_type": "code",
   "execution_count": 30,
   "metadata": {},
   "outputs": [],
   "source": [
    "\n",
    "def genera_hashes(elemento,salts,modulo_primo=526717):\n",
    "    \"\"\"\n",
    "    Recibe un elemento, y genera los hashes blake2b del elemento, se mapean a\n",
    "    enteros y se les aplica módulo de un primo dado.\n",
    "    \"\"\"\n",
    "    elemento = elemento.encode() \n",
    "    hashes = [int(blake2b(elemento,salt=salt).hexdigest()[:10],16) % modulo_primo\\\n",
    "    for salt in salts] \n",
    "    \n",
    "    return hashes"
   ]
  },
  {
   "cell_type": "code",
   "execution_count": 31,
   "metadata": {},
   "outputs": [],
   "source": [
    "sales = hash_generator()\n",
    "hashes = genera_hashes('paco',sales)"
   ]
  },
  {
   "cell_type": "code",
   "execution_count": 32,
   "metadata": {},
   "outputs": [],
   "source": [
    "bloom_filter = np.zeros(526717)"
   ]
  },
  {
   "cell_type": "code",
   "execution_count": 34,
   "metadata": {},
   "outputs": [],
   "source": [
    "bloom_filter[hashes] = 1"
   ]
  },
  {
   "cell_type": "code",
   "execution_count": 37,
   "metadata": {},
   "outputs": [
    {
     "data": {
      "text/plain": [
       "array([1., 1., 1., 1., 1., 1., 1., 1., 1., 1., 1., 1., 1., 1., 1., 1., 1.,\n",
       "       1., 1., 1., 1., 1., 1., 1., 1., 1., 1., 1., 1., 1., 1., 1., 1., 1.,\n",
       "       1., 1., 1., 1., 1., 1., 1., 1., 1., 1., 1., 1., 1., 1., 1., 1., 1.,\n",
       "       1., 1., 1., 1., 1., 1., 1., 1., 1., 1., 1., 1., 1., 1., 1., 1., 1.,\n",
       "       1., 1., 1., 1., 1., 1., 1., 1., 1., 1., 1., 1., 1., 1., 1., 1., 1.,\n",
       "       1., 1., 1., 1., 1., 1., 1., 1., 1., 1., 1., 1., 1., 1., 1.])"
      ]
     },
     "execution_count": 37,
     "metadata": {},
     "output_type": "execute_result"
    }
   ],
   "source": [
    "bloom_filter[bloom_filter==1]"
   ]
  },
  {
   "cell_type": "code",
   "execution_count": 41,
   "metadata": {},
   "outputs": [],
   "source": [
    "def hash_family(semilla=12345,k=100):\n",
    "    \"\"\"\n",
    "\tDado una semilla y un número k, \n",
    "\tgenera los salts (semilla en string)\n",
    "\tpara generar k funciónes de hash blake2b\n",
    "\t\"\"\"\n",
    "    random.seed(semilla)\n",
    "    hash_salts = []\n",
    "    \n",
    "    for i in range(k):\n",
    "        min_char = 8\n",
    "        max_char = 12\n",
    "        allchar = string.ascii_letters + string.digits\n",
    "        password = \"\".join(choice(allchar) for x in range(randint(min_char, max_char)))\n",
    "        salt = password.encode()\n",
    "        hash_salts.append(salt)\n",
    "    \n",
    "    return hash_salts\n",
    "\n",
    "\n",
    "def hash_generator(elemento,salts,modulo_primo=526717):\n",
    "    \"\"\"\n",
    "    Recibe un elemento, y genera los hashes blake2b del elemento, se mapean a\n",
    "    enteros y se les aplica módulo de un primo dado.\n",
    "    \"\"\"\n",
    "    elemento = elemento.encode() \n",
    "    hashes = [int(blake2b(elemento,salt=salt).hexdigest()[:10],16) % modulo_primo\\\n",
    "    for salt in salts] \n",
    "    \n",
    "    return hashes"
   ]
  },
  {
   "cell_type": "code",
   "execution_count": 61,
   "metadata": {},
   "outputs": [],
   "source": [
    "class bloom_filter:\n",
    "       \n",
    "    def __init__(self,salts,big_prime):\n",
    "        self.salts = salts\n",
    "        self.big_prime = big_prime\n",
    "        self.bits_vector = np.zeros(self.big_prime)\n",
    "    \n",
    "    def check_element(self,element):\n",
    "        #generate hashes\n",
    "        hashes = hash_generator(element,self.salts,self.big_prime)\n",
    "        #check if exists\n",
    "        if self.bits_vector[hashes].sum() == len(hashes):\n",
    "            print('elemento {} ya esta en la lista'.format(element))\n",
    "            return 0\n",
    "        else:\n",
    "            print('elemento {} no esta en la lista'.format(element))\n",
    "            #inserción en el filtro de bloom\n",
    "            self.bits_vector[hashes] = 1\n",
    "            return 1\n",
    "        \n",
    "    "
   ]
  },
  {
   "cell_type": "code",
   "execution_count": 63,
   "metadata": {
    "collapsed": true
   },
   "outputs": [],
   "source": [
    "salts = hash_family()\n",
    "filtro_bloom = bloom_filter(salts=salts,big_prime=526717)"
   ]
  },
  {
   "cell_type": "code",
   "execution_count": 65,
   "metadata": {},
   "outputs": [
    {
     "name": "stdout",
     "output_type": "stream",
     "text": [
      "elemento paco ya esta en la lista\n"
     ]
    },
    {
     "data": {
      "text/plain": [
       "0"
      ]
     },
     "execution_count": 65,
     "metadata": {},
     "output_type": "execute_result"
    }
   ],
   "source": [
    "filtro_bloom.check_element('paco')"
   ]
  },
  {
   "cell_type": "code",
   "execution_count": null,
   "metadata": {
    "collapsed": true
   },
   "outputs": [],
   "source": []
  },
  {
   "cell_type": "code",
   "execution_count": 7,
   "metadata": {
    "collapsed": true
   },
   "outputs": [],
   "source": [
    "import numpy as np\n",
    "import matplotlib.mlab as mlab\n",
    "import matplotlib.pyplot as plt"
   ]
  },
  {
   "cell_type": "code",
   "execution_count": 8,
   "metadata": {},
   "outputs": [],
   "source": [
    "\n"
   ]
  },
  {
   "cell_type": "code",
   "execution_count": 13,
   "metadata": {},
   "outputs": [
    {
     "data": {
      "text/plain": [
       "1099506432342"
      ]
     },
     "execution_count": 13,
     "metadata": {},
     "output_type": "execute_result"
    }
   ],
   "source": []
  },
  {
   "cell_type": "code",
   "execution_count": 9,
   "metadata": {},
   "outputs": [
    {
     "data": {
      "image/png": "[encoded data removed]",
      "text/plain": [
       "<matplotlib.figure.Figure at 0x7fc350de2940>"
      ]
     },
     "metadata": {},
     "output_type": "display_data"
    }
   ],
   "source": [
    "num_bins = 100\n",
    "n, bins, patches = plt.hist(x, num_bins, facecolor='blue', alpha=0.5)\n",
    "plt.show()"
   ]
  },
  {
   "cell_type": "code",
   "execution_count": 66,
   "metadata": {},
   "outputs": [],
   "source": [
    "import requests"
   ]
  },
  {
   "cell_type": "code",
   "execution_count": 110,
   "metadata": {},
   "outputs": [
    {
     "data": {
      "text/plain": [
       "{'macs_existentes_filtro': 0, 'nuevas_macs_filtro': 2}"
      ]
     },
     "execution_count": 110,
     "metadata": {},
     "output_type": "execute_result"
    }
   ],
   "source": [
    "r = requests.post('http://localhost:5000/insert_elements/', json= {'macs':['adfasdfasf','asdasfda']})\n",
    "r.json()"
   ]
  },
  {
   "cell_type": "code",
   "execution_count": 60,
   "metadata": {},
   "outputs": [
    {
     "data": {
      "text/plain": [
       "63260"
      ]
     },
     "execution_count": 60,
     "metadata": {},
     "output_type": "execute_result"
    }
   ],
   "source": []
  }
 ],
 "metadata": {
  "kernelspec": {
   "display_name": "py3",
   "language": "python",
   "name": "py3"
  },
  "language_info": {
   "codemirror_mode": {
    "name": "ipython",
    "version": 3
   },
   "file_extension": ".py",
   "mimetype": "text/x-python",
   "name": "python",
   "nbconvert_exporter": "python",
   "pygments_lexer": "ipython3",
   "version": "3.5.2"
  }
 },
 "nbformat": 4,
 "nbformat_minor": 2
}
