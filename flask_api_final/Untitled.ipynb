{
 "cells": [
  {
   "cell_type": "code",
   "execution_count": 1,
   "metadata": {
    "collapsed": true
   },
   "outputs": [],
   "source": [
    "from hashlib import *\n",
    "from pyblake2 import blake2b"
   ]
  },
  {
   "cell_type": "code",
   "execution_count": 2,
   "metadata": {
    "collapsed": true
   },
   "outputs": [],
   "source": [
    "import string\n",
    "from random import choice,randint,seed\n",
    "import numpy as np\n",
    "from pyblake2 import blake2b\n",
    "\n",
    "def hash_family(semilla=12345,k=100):\n",
    "\t\"\"\"\n",
    "\tDado una semilla y un número k, \n",
    "\tgenera los salts (semilla en string)\n",
    "\tpara generar k funciónes de hash blake2b\n",
    "\t\"\"\"\n",
    "\tseed(semilla)\n",
    "\thash_salts = []\n",
    "\tfor i in range(int(k)):\n",
    "\t\tmin_char = 8\n",
    "\t\tmax_char = 12\n",
    "\t\tallchar = string.ascii_letters + string.digits\n",
    "\t\tpassword = \"\".join(choice(allchar) for x in range(randint(min_char, max_char)))\n",
    "\t\tsalt = password.encode()\n",
    "\t\thash_salts.append(salt)\n",
    "\n",
    "\treturn hash_salts\n",
    "\n",
    "\n",
    "def hash_generator(elemento,salts,modulo_primo=526717,hyperloglog=False):\n",
    "    \"\"\"\n",
    "    Recibe un elemento, y genera los hashes blake2b del elemento, se mapean a\n",
    "    enteros y se les aplica módulo de un primo dado.\n",
    "    Si hyperloglog es True, regresa un hash binario, uno solo.\n",
    "    \"\"\"\n",
    "    elemento = elemento.encode() \n",
    "    \n",
    "    if hyperloglog == True:\n",
    "    \tmodulo_primo = 10000139\n",
    "    \thashes = format(int(blake2b(elemento,salt=salts[0]).hexdigest()[:10],16) % modulo_primo,'023b') \n",
    "    else:\n",
    "    \thashes = [int(blake2b(elemento,salt=salt).hexdigest()[:10],16) % modulo_primo\\\n",
    "\t    for salt in salts]\n",
    "    \n",
    "    return hashes\n",
    "\n",
    "\n",
    "class bloom_filter:\n",
    "\t\"\"\"\n",
    "\tUn bloom filter.\n",
    "\t\n",
    "\tRecibe los salts generados para loss hashes con blake2b y un primo, que es el largo del]\n",
    "\tvector de bits.\n",
    "\t\"\"\"     \n",
    "\tdef __init__(self,salts,big_prime):\n",
    "\t    self.salts = salts\n",
    "\t    self.big_prime = big_prime\n",
    "\t    self.bits_vector = np.zeros(self.big_prime)\n",
    "\n",
    "\tdef check_element(self,element):\n",
    "\t\t\"\"\"\n",
    "\t\tCheca, dado un elemento, \n",
    "\t\tsi este ya existe, si no, lo inserta.\n",
    "\t\t\"\"\"\n",
    "\t\t#generate hashes\n",
    "\t\thashes = hash_generator(element,self.salts,self.big_prime)\n",
    "\t\tif self.bits_vector[hashes].sum() == len(hashes):\n",
    "\t\t    print('elemento {} ya esta en la lista'.format(element))\n",
    "\t\t    return 0\n",
    "\t\telse:\n",
    "\t\t    print('elemento {} no esta en la lista'.format(element))\n",
    "\t\t    #inserción en el filtro de bloom\n",
    "\t\t    self.bits_vector[hashes] = 1\n",
    "\t\t    return 1"
   ]
  },
  {
   "cell_type": "code",
   "execution_count": 3,
   "metadata": {
    "collapsed": true
   },
   "outputs": [],
   "source": [
    "salts = hash_family(k=100)\n",
    "big_prime = 9003749\n",
    "#genera vector\t de bits \n",
    "filtro_bloom = bloom_filter(salts,big_prime)"
   ]
  },
  {
   "cell_type": "code",
   "execution_count": null,
   "metadata": {
    "collapsed": true
   },
   "outputs": [],
   "source": []
  },
  {
   "cell_type": "code",
   "execution_count": null,
   "metadata": {
    "collapsed": true
   },
   "outputs": [],
   "source": []
  },
  {
   "cell_type": "code",
   "execution_count": null,
   "metadata": {
    "collapsed": true
   },
   "outputs": [],
   "source": []
  },
  {
   "cell_type": "code",
   "execution_count": null,
   "metadata": {
    "collapsed": true
   },
   "outputs": [],
   "source": []
  },
  {
   "cell_type": "code",
   "execution_count": null,
   "metadata": {
    "collapsed": true
   },
   "outputs": [],
   "source": []
  },
  {
   "cell_type": "code",
   "execution_count": null,
   "metadata": {
    "collapsed": true
   },
   "outputs": [],
   "source": []
  },
  {
   "cell_type": "code",
   "execution_count": null,
   "metadata": {
    "collapsed": true
   },
   "outputs": [],
   "source": []
  },
  {
   "cell_type": "code",
   "execution_count": null,
   "metadata": {
    "collapsed": true
   },
   "outputs": [],
   "source": []
  },
  {
   "cell_type": "code",
   "execution_count": null,
   "metadata": {
    "collapsed": true
   },
   "outputs": [],
   "source": []
  },
  {
   "cell_type": "code",
   "execution_count": null,
   "metadata": {
    "collapsed": true
   },
   "outputs": [],
   "source": []
  },
  {
   "cell_type": "code",
   "execution_count": null,
   "metadata": {
    "collapsed": true
   },
   "outputs": [],
   "source": []
  },
  {
   "cell_type": "code",
   "execution_count": null,
   "metadata": {
    "collapsed": true
   },
   "outputs": [],
   "source": []
  },
  {
   "cell_type": "code",
   "execution_count": null,
   "metadata": {
    "collapsed": true
   },
   "outputs": [],
   "source": []
  },
  {
   "cell_type": "code",
   "execution_count": null,
   "metadata": {
    "collapsed": true
   },
   "outputs": [],
   "source": []
  },
  {
   "cell_type": "code",
   "execution_count": null,
   "metadata": {
    "collapsed": true
   },
   "outputs": [],
   "source": []
  },
  {
   "cell_type": "code",
   "execution_count": null,
   "metadata": {
    "collapsed": true
   },
   "outputs": [],
   "source": []
  },
  {
   "cell_type": "code",
   "execution_count": 2,
   "metadata": {
    "collapsed": true
   },
   "outputs": [],
   "source": []
  },
  {
   "cell_type": "code",
   "execution_count": null,
   "metadata": {
    "collapsed": true
   },
   "outputs": [],
   "source": [
    "\n"
   ]
  },
  {
   "cell_type": "code",
   "execution_count": null,
   "metadata": {
    "collapsed": true
   },
   "outputs": [],
   "source": []
  },
  {
   "cell_type": "code",
   "execution_count": null,
   "metadata": {
    "collapsed": true
   },
   "outputs": [],
   "source": [
    "num_bins = 100\n",
    "n, bins, patches = plt.hist(x, num_bins, facecolor='blue', alpha=0.5)\n",
    "plt.show()"
   ]
  },
  {
   "cell_type": "code",
   "execution_count": null,
   "metadata": {
    "collapsed": true
   },
   "outputs": [],
   "source": []
  },
  {
   "cell_type": "code",
   "execution_count": 19,
   "metadata": {
    "collapsed": true
   },
   "outputs": [],
   "source": [
    "import requests\n",
    "import pandas as pd\n",
    "flujo = pd.read_csv('../../flujo1.csv',header=None)\n",
    "flujo.columns = ['nodo','mac','pot','fecha']\n",
    "flujo.loc[:,'fecha'] = flujo['fecha'].str[:10]\n",
    "flujo = flujo[['nodo','mac','fecha']].values.tolist()\n",
    "elementos = ['-'.join(elemento) for elemento in flujo]\n",
    "records = elementos[:100]\n",
    "records2 = elementos[101:200]\n",
    "records3 = elementos[201:300]\n",
    "records4 = elementos[301:400]"
   ]
  },
  {
   "cell_type": "code",
   "execution_count": 29,
   "metadata": {},
   "outputs": [
    {
     "name": "stdout",
     "output_type": "stream",
     "text": [
      "32 99\n",
      "{'visitas_existentes': 67, 'nuevas_visitas': 32}\n",
      "{'nuevas_visitas_base': 32, 'visitas_existentes_base': 67}\n",
      "33 99\n",
      "{'visitas_existentes': 82, 'nuevas_visitas': 17}\n",
      "{'nuevas_visitas_base': 17, 'visitas_existentes_base': 82}\n",
      "37 99\n",
      "{'visitas_existentes': 82, 'nuevas_visitas': 17}\n",
      "{'nuevas_visitas_base': 17, 'visitas_existentes_base': 82}\n",
      "32 99\n",
      "{'visitas_existentes': 99, 'nuevas_visitas': 0}\n",
      "{'nuevas_visitas_base': 0, 'visitas_existentes_base': 99}\n"
     ]
    }
   ],
   "source": [
    "for records in [records,records2,records3,records4]:\n",
    "    r = requests.post('http://184.72.111.50:3000/insert_elements_bloom/', json= {'records':records})\n",
    "    p = requests.post('http://184.72.111.50:3000/insert_elements_db/', json= {'records':records})\n",
    "    print(r.json())\n",
    "    print(p.json())"
   ]
  },
  {
   "cell_type": "code",
   "execution_count": 59,
   "metadata": {},
   "outputs": [],
   "source": [
    "import requests\n",
    "import pandas as pd\n",
    "flujo = pd.read_csv('../../flujo1.csv',header=None)\n",
    "flujo.columns = ['nodo','mac','pot','fecha']\n",
    "flujo.loc[:,'fecha'] = flujo['fecha'].str[:10]\n",
    "flujo = flujo[['nodo','pot']].values.tolist()\n",
    "\n",
    "def hash_bucket(elemento,salts,modulo_primo=10):\n",
    "    \"\"\"\n",
    "    Recibe un elemento, y genera los hashes blake2b del elemento, se mapean a\n",
    "    enteros y se les aplica módulo de un primo dado.\n",
    "    Si hyperloglog es True, regresa un hash binario, uno solo.\n",
    "    \"\"\"\n",
    "    elemento = elemento.encode() \n",
    "    \n",
    "    hashes = [int(blake2b(elemento,salt=salt).hexdigest()[:10],16) % modulo_primo\\\n",
    "              for salt in salts]\n",
    "    \n",
    "    return hashes"
   ]
  },
  {
   "cell_type": "code",
   "execution_count": 60,
   "metadata": {},
   "outputs": [],
   "source": [
    "h = hash_family(semilla=12345,k=1)"
   ]
  },
  {
   "cell_type": "code",
   "execution_count": 56,
   "metadata": {},
   "outputs": [],
   "source": [
    "\n",
    "records = flujo[:200]\n",
    "    \n",
    "sd = requests.post('http://localhost:5000/insert_elements_db_window/', json= {'records':records})\n",
    "print(sd.json())    \n",
    "\n"
   ]
  },
  {
   "cell_type": "code",
   "execution_count": 55,
   "metadata": {},
   "outputs": [
    {
     "data": {
      "text/plain": [
       "[[0], [6], [2], [0]]"
      ]
     },
     "execution_count": 55,
     "metadata": {},
     "output_type": "execute_result"
    }
   ],
   "source": []
  },
  {
   "cell_type": "code",
   "execution_count": null,
   "metadata": {
    "collapsed": true
   },
   "outputs": [],
   "source": [
    "flujo[1]"
   ]
  },
  {
   "cell_type": "code",
   "execution_count": null,
   "metadata": {
    "collapsed": true
   },
   "outputs": [],
   "source": []
  },
  {
   "cell_type": "code",
   "execution_count": null,
   "metadata": {
    "collapsed": true
   },
   "outputs": [],
   "source": []
  },
  {
   "cell_type": "code",
   "execution_count": null,
   "metadata": {
    "collapsed": true
   },
   "outputs": [],
   "source": []
  },
  {
   "cell_type": "code",
   "execution_count": null,
   "metadata": {
    "collapsed": true
   },
   "outputs": [],
   "source": [
    "pos_connection.commit()"
   ]
  },
  {
   "cell_type": "code",
   "execution_count": 9,
   "metadata": {},
   "outputs": [
    {
     "data": {
      "text/plain": [
       "{'macs_existentes_filtro': 158,\n",
       " 'nuevas_macs_filtro': 42,\n",
       " 'visitas_existentes_base': 158}"
      ]
     },
     "execution_count": 9,
     "metadata": {},
     "output_type": "execute_result"
    }
   ],
   "source": []
  },
  {
   "cell_type": "code",
   "execution_count": null,
   "metadata": {
    "collapsed": true
   },
   "outputs": [],
   "source": []
  },
  {
   "cell_type": "code",
   "execution_count": null,
   "metadata": {
    "collapsed": true
   },
   "outputs": [],
   "source": []
  },
  {
   "cell_type": "markdown",
   "metadata": {},
   "source": [
    "Simulación de flujos \n"
   ]
  },
  {
   "cell_type": "code",
   "execution_count": null,
   "metadata": {
    "collapsed": true
   },
   "outputs": [],
   "source": [
    "\n",
    "\n",
    "### Tenemos archivo. Insertaremos batches de 10000 lineas. \n",
    "\n",
    "##lee archivo. \n",
    "\n",
    "#obten los registros e insertalos en la base de datos.\n",
    "\n",
    "    #deacuerdo a blo\n",
    "\n",
    "\n",
    "\n",
    "\n"
   ]
  }
 ],
 "metadata": {
  "kernelspec": {
   "display_name": "py3",
   "language": "python",
   "name": "py3"
  },
  "language_info": {
   "codemirror_mode": {
    "name": "ipython",
    "version": 3
   },
   "file_extension": ".py",
   "mimetype": "text/x-python",
   "name": "python",
   "nbconvert_exporter": "python",
   "pygments_lexer": "ipython3",
   "version": "3.5.2"
  }
 },
 "nbformat": 4,
 "nbformat_minor": 2
}
